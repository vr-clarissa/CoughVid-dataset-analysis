{
 "cells": [
  {
   "cell_type": "code",
   "execution_count": 7,
   "metadata": {},
   "outputs": [],
   "source": [
    "import numpy as np \n",
    "import pandas as pd \n",
    "import json\n",
    "import os"
   ]
  },
  {
   "cell_type": "code",
   "execution_count": 4,
   "metadata": {},
   "outputs": [],
   "source": [
    "directory = 'covid19-cough-audio-classification/'\n",
    "\n",
    "# divide data file types\n",
    "def get_data():\n",
    "    json_files = []\n",
    "    audio_files = []\n",
    "    \n",
    "    file_list = os.listdir(directory)\n",
    "    json_file = [file for file in file_list if \".json\" in str(file)]\n",
    "    audio_file = [file for file in file_list if \".webm\" in str(file)]\n",
    "    \n",
    "    return json_file, audio_file\n",
    "    \n",
    "json_files, audio_files = get_data()"
   ]
  },
  {
   "cell_type": "code",
   "execution_count": 5,
   "metadata": {},
   "outputs": [
    {
     "name": "stdout",
     "output_type": "stream",
     "text": [
      "27550\n",
      "25985\n"
     ]
    }
   ],
   "source": [
    "print (len(json_files))\n",
    "print (len(audio_files))"
   ]
  },
  {
   "cell_type": "code",
   "execution_count": 24,
   "metadata": {},
   "outputs": [],
   "source": [
    "def load_json_data():\n",
    "    json_data = []\n",
    "    \n",
    "    for filename in json_files:\n",
    "        # check if audio clip exists\n",
    "        name = filename.replace(\".json\", \"\")\n",
    "        is_present = 1 if name + \".webm\" in audio_files else 0\n",
    "        \n",
    "        # load json data\n",
    "        json_path = os.path.join(directory, filename)\n",
    "        with open(json_path, mode='r') as file:\n",
    "            json_obj = json.load(file)\n",
    "            json_obj['audio_clip_present'] = is_present\n",
    "            json_data.append(json_obj)\n",
    "    \n",
    "    df = pd.DataFrame(json_data) \n",
    "    \n",
    "    return df\n",
    "        \n",
    "df = load_json_info()"
   ]
  },
  {
   "cell_type": "code",
   "execution_count": 30,
   "metadata": {},
   "outputs": [
    {
     "data": {
      "text/plain": [
       "datetime                     0\n",
       "cough_detected               0\n",
       "latitude                 11466\n",
       "longitude                11466\n",
       "audio_clip_present           0\n",
       "age                      12332\n",
       "gender                   11326\n",
       "respiratory_condition    11326\n",
       "fever_muscle_pain        11326\n",
       "status                   11326\n",
       "expert_labels_4          26730\n",
       "expert_labels_3          26730\n",
       "expert_labels_2          26730\n",
       "expert_labels_1          26730\n",
       "dtype: int64"
      ]
     },
     "execution_count": 30,
     "metadata": {},
     "output_type": "execute_result"
    }
   ],
   "source": [
    "# df\n",
    "df.isnull().sum()"
   ]
  },
  {
   "cell_type": "code",
   "execution_count": null,
   "metadata": {},
   "outputs": [],
   "source": []
  }
 ],
 "metadata": {
  "kernelspec": {
   "display_name": "Python 3",
   "language": "python",
   "name": "python3"
  },
  "language_info": {
   "codemirror_mode": {
    "name": "ipython",
    "version": 3
   },
   "file_extension": ".py",
   "mimetype": "text/x-python",
   "name": "python",
   "nbconvert_exporter": "python",
   "pygments_lexer": "ipython3",
   "version": "3.7.10"
  }
 },
 "nbformat": 4,
 "nbformat_minor": 4
}
