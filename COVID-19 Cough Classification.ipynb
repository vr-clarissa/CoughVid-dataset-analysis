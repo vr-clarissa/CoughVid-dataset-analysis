{
 "cells": [
  {
   "cell_type": "code",
   "execution_count": 1,
   "metadata": {},
   "outputs": [],
   "source": [
    "import numpy as np \n",
    "import pandas as pd \n",
    "import json\n",
    "import os"
   ]
  },
  {
   "cell_type": "code",
   "execution_count": 2,
   "metadata": {},
   "outputs": [],
   "source": [
    "directory = 'covid19-cough-audio-classification/'\n",
    "\n",
    "# divide data file types\n",
    "def get_data():\n",
    "    json_files = []\n",
    "    audio_files = []\n",
    "    \n",
    "    file_list = os.listdir(directory)\n",
    "    json_file = [file for file in file_list if \".json\" in str(file)]\n",
    "    audio_file = [file for file in file_list if \".webm\" in str(file)]\n",
    "    \n",
    "    return json_file, audio_file\n",
    "    \n",
    "json_files, audio_files = get_data()"
   ]
  },
  {
   "cell_type": "code",
   "execution_count": 3,
   "metadata": {},
   "outputs": [
    {
     "name": "stdout",
     "output_type": "stream",
     "text": [
      "27550\n",
      "25985\n"
     ]
    }
   ],
   "source": [
    "print (len(json_files))\n",
    "print (len(audio_files))"
   ]
  },
  {
   "cell_type": "code",
   "execution_count": 5,
   "metadata": {},
   "outputs": [],
   "source": [
    "def load_json_data():\n",
    "    json_data = []\n",
    "    \n",
    "    for filename in json_files:\n",
    "        # check if audio clip exists\n",
    "        name = filename.replace(\".json\", \"\")\n",
    "        is_present = 1 if name + \".webm\" in audio_files else 0\n",
    "        \n",
    "        # load json data\n",
    "        json_path = os.path.join(directory, filename)\n",
    "        with open(json_path, mode='r') as file:\n",
    "            json_obj = json.load(file)\n",
    "            json_obj['audio_clip_present'] = is_present\n",
    "            json_data.append(json_obj)\n",
    "    \n",
    "    df = pd.DataFrame(json_data) \n",
    "    \n",
    "    return df\n",
    "        \n",
    "df = load_json_data()"
   ]
  },
  {
   "cell_type": "code",
   "execution_count": 6,
   "metadata": {},
   "outputs": [
    {
     "data": {
      "text/plain": [
       "datetime                     0\n",
       "cough_detected               0\n",
       "latitude                 11466\n",
       "longitude                11466\n",
       "audio_clip_present           0\n",
       "age                      12332\n",
       "gender                   11326\n",
       "respiratory_condition    11326\n",
       "fever_muscle_pain        11326\n",
       "status                   11326\n",
       "expert_labels_4          26730\n",
       "expert_labels_3          26730\n",
       "expert_labels_2          26730\n",
       "expert_labels_1          26730\n",
       "dtype: int64"
      ]
     },
     "execution_count": 6,
     "metadata": {},
     "output_type": "execute_result"
    }
   ],
   "source": [
    "# df\n",
    "df.isnull().sum()"
   ]
  },
  {
   "cell_type": "code",
   "execution_count": 13,
   "metadata": {},
   "outputs": [
    {
     "data": {
      "text/plain": [
       "0"
      ]
     },
     "execution_count": 13,
     "metadata": {},
     "output_type": "execute_result"
    }
   ],
   "source": [
    "df['age'].fillna(0, inplace=True)\n",
    "df['age'] = df['age'].astype(float)\n",
    "df['age'].isnull().sum()"
   ]
  },
  {
   "cell_type": "code",
   "execution_count": 16,
   "metadata": {},
   "outputs": [
    {
     "data": {
      "text/plain": [
       "0       2020-11-25 18:58:50.488301+00:00\n",
       "1       2020-04-13 21:30:59.801831+00:00\n",
       "2       2020-10-18 15:38:38.205870+00:00\n",
       "3       2020-04-12 04:02:18.159383+00:00\n",
       "4       2020-04-15 01:03:59.029326+00:00\n",
       "                      ...               \n",
       "27545   2020-11-05 08:26:04.219206+00:00\n",
       "27546   2020-06-28 21:28:21.530881+00:00\n",
       "27547   2020-04-10 05:10:36.787070+00:00\n",
       "27548   2020-04-13 18:58:26.954663+00:00\n",
       "27549   2020-04-14 13:02:33.307684+00:00\n",
       "Name: date_time, Length: 27550, dtype: datetime64[ns, UTC]"
      ]
     },
     "execution_count": 16,
     "metadata": {},
     "output_type": "execute_result"
    }
   ],
   "source": [
    "df['date_time'] = df['date_time'] = pd.to_datetime(df.datetime)\n",
    "df['date_time']"
   ]
  },
  {
   "cell_type": "code",
   "execution_count": null,
   "metadata": {},
   "outputs": [],
   "source": []
  }
 ],
 "metadata": {
  "kernelspec": {
   "display_name": "Python 3",
   "language": "python",
   "name": "python3"
  },
  "language_info": {
   "codemirror_mode": {
    "name": "ipython",
    "version": 3
   },
   "file_extension": ".py",
   "mimetype": "text/x-python",
   "name": "python",
   "nbconvert_exporter": "python",
   "pygments_lexer": "ipython3",
   "version": "3.7.10"
  }
 },
 "nbformat": 4,
 "nbformat_minor": 4
}
